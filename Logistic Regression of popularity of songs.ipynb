{
 "cells": [
  {
   "cell_type": "code",
   "execution_count": 2,
   "id": "9573edb7-e6c0-498a-b549-20876177bf8a",
   "metadata": {},
   "outputs": [
    {
     "name": "stdout",
     "output_type": "stream",
     "text": [
      "Full dataset distribution:\n",
      " popular\n",
      "0    685\n",
      "1    172\n",
      "Name: count, dtype: int64\n",
      "Train set distribution:\n",
      " popular\n",
      "0    548\n",
      "1    137\n",
      "Name: count, dtype: int64\n",
      "Test set distribution:\n",
      " popular\n",
      "0    137\n",
      "1     35\n",
      "Name: count, dtype: int64\n",
      "popular\n",
      "0    685\n",
      "1    172\n",
      "Name: count, dtype: int64\n",
      "Accuracy: 0.92\n",
      "\n",
      "Classification Report:\n",
      "               precision    recall  f1-score   support\n",
      "\n",
      "           0       0.92      0.98      0.95       137\n",
      "           1       0.89      0.69      0.77        35\n",
      "\n",
      "    accuracy                           0.92       172\n",
      "   macro avg       0.91      0.83      0.86       172\n",
      "weighted avg       0.92      0.92      0.91       172\n",
      "\n",
      "\n",
      "Confusion Matrix:\n",
      " [[134   3]\n",
      " [ 11  24]]\n"
     ]
    }
   ],
   "source": [
    "import pandas as pd\n",
    "import numpy as np\n",
    "import matplotlib.pyplot as plt\n",
    "from sklearn.model_selection import train_test_split\n",
    "from sklearn.preprocessing import StandardScaler\n",
    "from sklearn.linear_model import LogisticRegression\n",
    "from sklearn.metrics import accuracy_score, classification_report, confusion_matrix\n",
    "\n",
    "df=pd.read_csv(\"Spotify -Raw Data.csv\",encoding='ISO-8859-1')\n",
    "df[\"streams\"] = pd.to_numeric(df[\"streams\"], errors=\"coerce\")\n",
    "df[\"in_spotify_playlists\"] = pd.to_numeric(df[\"in_spotify_playlists\"], errors=\"coerce\")\n",
    "df[\"in_shazam_charts\"] = pd.to_numeric(df[\"in_shazam_charts\"], errors=\"coerce\").fillna(0)\n",
    "df[\"in_deezer_playlists\"] = pd.to_numeric(df[\"in_deezer_playlists\"], errors=\"coerce\").fillna(0)\n",
    "df[\"in_spotify_charts\"] = pd.to_numeric(df[\"in_spotify_charts\"], errors=\"coerce\").fillna(0)\n",
    "df[\"in_apple_playlists\"] = pd.to_numeric(df[\"in_apple_playlists\"], errors=\"coerce\").fillna(0)\n",
    "df[\"in_apple_charts\"] = pd.to_numeric(df[\"in_apple_charts\"], errors=\"coerce\").fillna(0)\n",
    "df[\"in_deezer_charts\"] = pd.to_numeric(df[\"in_deezer_charts\"], errors=\"coerce\").fillna(0)\n",
    "df = df.dropna()\n",
    "\n",
    "threshold = df[\"streams\"].quantile(0.80)  # Top 10% most streamed songs\n",
    "df[\"popular\"] = (df[\"streams\"] >= threshold).astype(int) \n",
    "\n",
    "features = [\"bpm\", \"danceability_%\", \"valence_%\", \"energy_%\", \"acousticness_%\",\n",
    "    \"instrumentalness_%\", \"liveness_%\", \"speechiness_%\", \"in_spotify_playlists\",\n",
    "    \"in_spotify_charts\", \"in_apple_playlists\", \"in_apple_charts\", \"in_deezer_playlists\",\n",
    "    \"in_deezer_charts\", \"in_shazam_charts\"]\n",
    "X = df[features]\n",
    "y = df[\"popular\"]\n",
    "\n",
    "X_train, X_test, y_train, y_test = train_test_split(X, y, test_size=0.2, random_state=42, stratify=y)\n",
    "\n",
    "scaler = StandardScaler()\n",
    "X_train_scaled = scaler.fit_transform(X_train)\n",
    "X_test_scaled = scaler.transform(X_test)\n",
    "\n",
    "model = LogisticRegression()\n",
    "model.fit(X_train_scaled, y_train)\n",
    "\n",
    "y_pred = model.predict(X_test_scaled)\n",
    "\n",
    "print(\"Full dataset distribution:\\n\", df[\"popular\"].value_counts())\n",
    "print(\"Train set distribution:\\n\", y_train.value_counts())\n",
    "print(\"Test set distribution:\\n\", y_test.value_counts())\n",
    "print(df[\"popular\"].value_counts())\n",
    "\n",
    "accuracy = accuracy_score(y_test, y_pred)\n",
    "print(f\"Accuracy: {accuracy:.2f}\")\n",
    "print(\"\\nClassification Report:\\n\", classification_report(y_test, y_pred,zero_division=1))\n",
    "print(\"\\nConfusion Matrix:\\n\", confusion_matrix(y_test, y_pred))"
   ]
  },
  {
   "cell_type": "code",
   "execution_count": 3,
   "id": "37c0cf37-866f-407f-9516-d803a1be09ba",
   "metadata": {},
   "outputs": [
    {
     "data": {
      "image/png": "[encoded data removed]",
      "text/plain": [
       "<Figure size 600x400 with 2 Axes>"
      ]
     },
     "metadata": {},
     "output_type": "display_data"
    }
   ],
   "source": [
    "import seaborn as sns\n",
    "\n",
    "conf_matrix = confusion_matrix(y_test, y_pred)\n",
    "\n",
    "plt.figure(figsize=(6, 4))\n",
    "sns.heatmap(conf_matrix, annot=True, fmt=\"d\", cmap=\"Blues\", xticklabels=[\"Not Popular\", \"Popular\"], yticklabels=[\"Not Popular\", \"Popular\"])\n",
    "plt.xlabel(\"Predicted Label\")\n",
    "plt.ylabel(\"True Label\")\n",
    "plt.title(\"Confusion Matrix Heatmap\")\n",
    "plt.show()\n"
   ]
  },
  {
   "cell_type": "code",
   "execution_count": 5,
   "id": "c3cfc681-667e-46bf-907a-432a6dbc0a39",
   "metadata": {},
   "outputs": [
    {
     "data": {
      "text/plain": [
       "(0.9186046511627907,\n",
       " '              precision    recall  f1-score   support\\n\\n           0       0.92      0.98      0.95       137\\n           1       0.89      0.69      0.77        35\\n\\n    accuracy                           0.92       172\\n   macro avg       0.91      0.83      0.86       172\\nweighted avg       0.92      0.92      0.91       172\\n',\n",
       "                  Feature  Importance\n",
       " 8   in_spotify_playlists    2.627415\n",
       " 2              valence_%    0.781051\n",
       " 9      in_spotify_charts    0.641830\n",
       " 10    in_apple_playlists    0.597800\n",
       " 12   in_deezer_playlists    0.522432\n",
       " 14      in_shazam_charts    0.468106\n",
       " 3               energy_%    0.290019\n",
       " 4         acousticness_%    0.235918\n",
       " 6             liveness_%    0.113648\n",
       " 11       in_apple_charts    0.094092\n",
       " 0                    bpm    0.086693\n",
       " 1         danceability_%    0.081092\n",
       " 13      in_deezer_charts    0.048880\n",
       " 7          speechiness_%    0.048844\n",
       " 5     instrumentalness_%    0.047573)"
      ]
     },
     "execution_count": 5,
     "metadata": {},
     "output_type": "execute_result"
    }
   ],
   "source": [
    "# Evaluate performance\n",
    "accuracy = accuracy_score(y_test, y_pred)\n",
    "report = classification_report(y_test, y_pred)\n",
    "\n",
    "# Feature Importance\n",
    "importances = np.abs(model.coef_[0])  # Take absolute value of coefficients\n",
    "feature_importance_df = pd.DataFrame({\n",
    "    \"Feature\": features,\n",
    "    \"Importance\": importances\n",
    "}).sort_values(by=\"Importance\", ascending=False)\n",
    "\n",
    "# Display results\n",
    "print(accuracy)\n",
    "print(report)\n",
    "print"
   ]
  },
  {
   "cell_type": "code",
   "execution_count": null,
   "id": "2a608814-7008-4603-9607-518d7619d439",
   "metadata": {},
   "outputs": [],
   "source": []
  }
 ],
 "metadata": {
  "kernelspec": {
   "display_name": "Python 3 (ipykernel)",
   "language": "python",
   "name": "python3"
  },
  "language_info": {
   "codemirror_mode": {
    "name": "ipython",
    "version": 3
   },
   "file_extension": ".py",
   "mimetype": "text/x-python",
   "name": "python",
   "nbconvert_exporter": "python",
   "pygments_lexer": "ipython3",
   "version": "3.12.7"
  }
 },
 "nbformat": 4,
 "nbformat_minor": 5
}
