{
 "cells": [
  {
   "cell_type": "code",
   "execution_count": 10,
   "id": "9573edb7-e6c0-498a-b549-20876177bf8a",
   "metadata": {},
   "outputs": [
    {
     "name": "stdout",
     "output_type": "stream",
     "text": [
      "Full dataset distribution:\n",
      " popular\n",
      "0    652\n",
      "1    164\n",
      "Name: count, dtype: int64\n",
      "Train set distribution:\n",
      " popular\n",
      "0    521\n",
      "1    131\n",
      "Name: count, dtype: int64\n",
      "Test set distribution:\n",
      " popular\n",
      "0    131\n",
      "1     33\n",
      "Name: count, dtype: int64\n",
      "popular\n",
      "0    652\n",
      "1    164\n",
      "Name: count, dtype: int64\n",
      "Accuracy: 0.92\n",
      "\n",
      "Classification Report:\n",
      "               precision    recall  f1-score   support\n",
      "\n",
      "           0       0.92      0.98      0.95       131\n",
      "           1       0.92      0.67      0.77        33\n",
      "\n",
      "    accuracy                           0.92       164\n",
      "   macro avg       0.92      0.83      0.86       164\n",
      "weighted avg       0.92      0.92      0.92       164\n",
      "\n",
      "\n",
      "Confusion Matrix:\n",
      " [[129   2]\n",
      " [ 11  22]]\n"
     ]
    }
   ],
   "source": [
    "import pandas as pd\n",
    "import numpy as np\n",
    "import matplotlib.pyplot as plt\n",
    "from sklearn.model_selection import train_test_split\n",
    "from sklearn.preprocessing import StandardScaler\n",
    "from sklearn.linear_model import LogisticRegression\n",
    "from sklearn.metrics import accuracy_score, classification_report, confusion_matrix\n",
    "\n",
    "df=pd.read_csv(\"Spotify -Raw Data.csv\",encoding='ISO-8859-1')\n",
    "df[\"streams\"] = pd.to_numeric(df[\"streams\"], errors=\"coerce\")\n",
    "df[\"in_spotify_playlists\"] = pd.to_numeric(df[\"in_spotify_playlists\"], errors=\"coerce\")\n",
    "df = df.dropna()\n",
    "\n",
    "threshold = df[\"streams\"].quantile(0.80)  # Top 10% most streamed songs\n",
    "df[\"popular\"] = (df[\"streams\"] >= threshold).astype(int) \n",
    "\n",
    "features = [\"bpm\", \"danceability_%\", \"valence_%\", \"energy_%\", \"acousticness_%\", \"instrumentalness_%\",\"in_spotify_playlists\"]\n",
    "X = df[features]\n",
    "y = df[\"popular\"]\n",
    "\n",
    "X_train, X_test, y_train, y_test = train_test_split(X, y, test_size=0.2, random_state=42, stratify=y)\n",
    "\n",
    "scaler = StandardScaler()\n",
    "X_train_scaled = scaler.fit_transform(X_train)\n",
    "X_test_scaled = scaler.transform(X_test)\n",
    "\n",
    "model = LogisticRegression()\n",
    "model.fit(X_train_scaled, y_train)\n",
    "\n",
    "y_pred = model.predict(X_test_scaled)\n",
    "\n",
    "print(\"Full dataset distribution:\\n\", df[\"popular\"].value_counts())\n",
    "print(\"Train set distribution:\\n\", y_train.value_counts())\n",
    "print(\"Test set distribution:\\n\", y_test.value_counts())\n",
    "print(df[\"popular\"].value_counts())\n",
    "\n",
    "accuracy = accuracy_score(y_test, y_pred)\n",
    "print(f\"Accuracy: {accuracy:.2f}\")\n",
    "print(\"\\nClassification Report:\\n\", classification_report(y_test, y_pred,zero_division=1))\n",
    "print(\"\\nConfusion Matrix:\\n\", confusion_matrix(y_test, y_pred))"
   ]
  },
  {
   "cell_type": "code",
   "execution_count": 11,
   "id": "37c0cf37-866f-407f-9516-d803a1be09ba",
   "metadata": {},
   "outputs": [
    {
     "data": {
      "image/png": "[encoded data removed]",
      "text/plain": [
       "<Figure size 600x400 with 2 Axes>"
      ]
     },
     "metadata": {},
     "output_type": "display_data"
    }
   ],
   "source": [
    "import seaborn as sns\n",
    "\n",
    "conf_matrix = confusion_matrix(y_test, y_pred)\n",
    "\n",
    "plt.figure(figsize=(6, 4))\n",
    "sns.heatmap(conf_matrix, annot=True, fmt=\"d\", cmap=\"Blues\", xticklabels=[\"Not Popular\", \"Popular\"], yticklabels=[\"Not Popular\", \"Popular\"])\n",
    "plt.xlabel(\"Predicted Label\")\n",
    "plt.ylabel(\"True Label\")\n",
    "plt.title(\"Confusion Matrix Heatmap\")\n",
    "plt.show()\n"
   ]
  },
  {
   "cell_type": "code",
   "execution_count": null,
   "id": "c3cfc681-667e-46bf-907a-432a6dbc0a39",
   "metadata": {},
   "outputs": [],
   "source": []
  },
  {
   "cell_type": "code",
   "execution_count": null,
   "id": "2a608814-7008-4603-9607-518d7619d439",
   "metadata": {},
   "outputs": [],
   "source": []
  }
 ],
 "metadata": {
  "kernelspec": {
   "display_name": "Python 3 (ipykernel)",
   "language": "python",
   "name": "python3"
  },
  "language_info": {
   "codemirror_mode": {
    "name": "ipython",
    "version": 3
   },
   "file_extension": ".py",
   "mimetype": "text/x-python",
   "name": "python",
   "nbconvert_exporter": "python",
   "pygments_lexer": "ipython3",
   "version": "3.12.7"
  }
 },
 "nbformat": 4,
 "nbformat_minor": 5
}
