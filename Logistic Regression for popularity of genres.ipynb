{
 "cells": [
  {
   "cell_type": "code",

   "execution_count": 1,

   "execution_count": 4,

   "id": "9c2464b5-4f20-4c18-b6a6-2d1ec00b0185",
   "metadata": {},
   "outputs": [],
   "source": [
    "import pandas as pd\n",
    "import numpy as np\n",
    "from sklearn.cluster import KMeans\n",
    "from sklearn.linear_model import LogisticRegression\n",
    "from sklearn.model_selection import train_test_split\n",
    "from sklearn.metrics import accuracy_score, classification_report\n",
    "from sklearn.preprocessing import StandardScaler\n",
    "df = pd.read_csv(\"Spotify -Raw Data.csv\", encoding=\"ISO-8859-1\")"
   ]
  },
  {
   "cell_type": "code",

   "execution_count": 2,

   "execution_count": 5,

   "id": "63f0d90e-fd2a-4761-ac78-72023ac1bdb8",
   "metadata": {},
   "outputs": [],
   "source": [
    "# Use previous clean dataframe for clustering\n",
    "features = ['bpm', 'danceability_%', 'valence_%', 'energy_%', 'acousticness_%', \n",
    "            'instrumentalness_%', 'liveness_%', 'speechiness_%']\n"
   ]
  },
  {
   "cell_type": "code",

   "execution_count": 3,

   "execution_count": 6,

   "id": "1f100714-f30c-4f78-8f81-2dd6e6ee7aeb",
   "metadata": {},
   "outputs": [],
   "source": [
    "# Ensure features are numeric\n",
    "for col in features:\n",
    "    df[col] = pd.to_numeric(df[col], errors='coerce')\n"
   ]
  },
  {
   "cell_type": "code",

   "execution_count": 4,

   "execution_count": 7,

   "id": "135360eb-5f1b-4bad-a373-0a14127f85ab",
   "metadata": {},
   "outputs": [],
   "source": [
    "# Drop rows with missing values in features\n",
    "df_clean = df.dropna(subset=features).copy()\n"
   ]
  },
  {
   "cell_type": "code",

   "execution_count": 5,

   "execution_count": 8,

   "id": "a63b5b23-96f4-4a04-a692-f15e6052cd31",
   "metadata": {},
   "outputs": [],
   "source": [
    "# Scale features\n",
    "scaler = StandardScaler()\n",
    "X_scaled = scaler.fit_transform(df_clean[features])\n"
   ]
  },
  {
   "cell_type": "code",

   "execution_count": 6,
    
   "execution_count": 17,

   "id": "bc509210-d616-4aca-8465-8f2012688adb",
   "metadata": {},
   "outputs": [],
   "source": [
    "# Set number of clusters to 8\n",
    "n_clusters = 8\n",
    "kmeans = KMeans(n_clusters=n_clusters, random_state=42, n_init=10)\n",
    "df_clean['genre_cluster'] = kmeans.fit_predict(X_scaled)\n"
   ]
  },
  {
   "cell_type": "code",

    
   "execution_count": 7,

   "execution_count": 10,

   "id": "65975c99-239b-45e6-9833-0eb82e83ca7b",
   "metadata": {},
   "outputs": [],
   "source": [
    "# Map cluster numbers to genre names for 8 clusters\n",
    "genre_names = {\n",
    "    0: 'Electronic/Dance',\n",
    "    1: 'Pop/Mainstream',\n",
    "    2: 'Hip-Hop/Rap',\n",
    "    3: 'Acoustic/Indie',\n",
    "    4: 'R&B/Soul',\n",
    "    5: 'Rock',\n",
    "    6: 'Country',\n",
    "    7: 'Alternative/Experimental'\n",
    "}\n",
    "df_clean['genre'] = df_clean['genre_cluster'].map(genre_names)\n"
   ]
  },
  {
   "cell_type": "code",

    
   "execution_count": 8,

   "execution_count": 11,

   "id": "145a0a4a-53d4-4416-b371-a4e71fe6b542",
   "metadata": {},
   "outputs": [],
   "source": [
    "# Create popularity column based on streams (binary, above median)\n",
    "df_clean['streams'] = pd.to_numeric(df_clean['streams'], errors='coerce')\n",
    "median_streams = df_clean['streams'].median()\n",
    "df_clean['popular'] = (df_clean['streams'] > median_streams).astype(int)\n"
   ]
  },
  {
   "cell_type": "code",

   "execution_count": 9,

   "execution_count": 12,

   "id": "eea26717-7057-4ae1-8051-29ddeec39d88",
   "metadata": {},
   "outputs": [
    {
     "name": "stdout",
     "output_type": "stream",
     "text": [
      "Genre Distribution:\n",
      "                      genre  count\n",
      "0                      Rock    238\n",
      "1            Pop/Mainstream    178\n",
      "2                   Country    117\n",
      "3          Electronic/Dance    115\n",
      "4               Hip-Hop/Rap    114\n",
      "5  Alternative/Experimental     91\n",
      "6                  R&B/Soul     84\n",
      "7            Acoustic/Indie     16\n"
     ]
    }
   ],
   "source": [
    "# Print distribution of genres\n",
    "genre_distribution = df_clean['genre'].value_counts().reset_index()\n",
    "genre_distribution.columns = ['genre', 'count']\n",
    "print('Genre Distribution:')\n",
    "print(genre_distribution.head(10))\n"
   ]
  },
  {
   "cell_type": "code",

   "execution_count": 10,

   "execution_count": 13,

   "id": "e943c1f2-6766-4ff9-8d7b-211d3cad9288",
   "metadata": {},
   "outputs": [
    {
     "name": "stdout",
     "output_type": "stream",
     "text": [
      "Popularity by Genre (rate of songs above stream median):\n",
      "                      genre  popularity_rate\n",
      "2                   Country         0.572650\n",
      "4               Hip-Hop/Rap         0.535088\n",
      "5            Pop/Mainstream         0.528090\n",
      "7                      Rock         0.521008\n",
      "0            Acoustic/Indie         0.500000\n",
      "1  Alternative/Experimental         0.472527\n",
      "6                  R&B/Soul         0.464286\n",
      "3          Electronic/Dance         0.347826\n"
     ]
    }
   ],
   "source": [
    "# Calculate popularity by genre (rate of songs above stream median)\n",
    "popularity_by_genre = df_clean.groupby('genre')['popular'].mean().reset_index()\n",
    "popularity_by_genre.rename(columns={'popular': 'popularity_rate'}, inplace=True)\n",
    "popularity_by_genre = popularity_by_genre.sort_values('popularity_rate', ascending=False)\n",
    "print('\\\n",
    "Popularity by Genre (rate of songs above stream median):')\n",
    "print(popularity_by_genre)\n"
   ]
  },
  {
   "cell_type": "code",

   "execution_count": 11,

   "execution_count": 14,

   "id": "5159bba5-584a-4ac8-830f-0b82235c0bae",
   "metadata": {},
   "outputs": [
    {
     "name": "stdout",
     "output_type": "stream",
     "text": [
      "Average Streams by Genre:\n",
      "                      genre       streams\n",
      "4               Hip-Hop/Rap  6.147645e+08\n",
      "2                   Country  5.824578e+08\n",
      "1  Alternative/Experimental  5.550749e+08\n",
      "7                      Rock  5.275637e+08\n",
      "6                  R&B/Soul  4.969296e+08\n",
      "5            Pop/Mainstream  4.871308e+08\n",
      "3          Electronic/Dance  3.619445e+08\n",
      "0            Acoustic/Indie  3.505458e+08\n"
     ]
    }
   ],
   "source": [
    "# Calculate average streams by genre\n",
    "avg_streams_by_genre = df_clean.groupby('genre')['streams'].mean().reset_index()\n",
    "avg_streams_by_genre = avg_streams_by_genre.sort_values('streams', ascending=False)\n",
    "print('\\\n",
    "Average Streams by Genre:')\n",
    "print(avg_streams_by_genre)\n"
   ]
  },
  {
   "cell_type": "code",

   "execution_count": 12,

   "execution_count": 16,

   "id": "18619ed0-671a-425b-b75c-33b9eea4c5e7",
   "metadata": {},
   "outputs": [
    {
     "name": "stderr",
     "output_type": "stream",
     "text": [
      "C:\\Users\\Administrator\\anaconda3\\Lib\\site-packages\\sklearn\\linear_model\\_logistic.py:1247: FutureWarning: 'multi_class' was deprecated in version 1.5 and will be removed in 1.7. From then on, it will always use 'multinomial'. Leave it to its default value to avoid this warning.\n",
      "  warnings.warn(\n"
     ]
    },
    {
     "name": "stdout",
     "output_type": "stream",
     "text": [
      "Genre Prediction using Multinomial Logistic Regression\n",
      "Accuracy:\n",
      "0.93717277486911\n",
      "Classification Report:\n",
      "                          precision    recall  f1-score   support\n",
      "\n",
      "          Acoustic/Indie       0.50      1.00      0.67         2\n",
      "Alternative/Experimental       0.95      0.95      0.95        20\n",
      "                 Country       0.92      0.92      0.92        25\n",
      "        Electronic/Dance       0.94      0.94      0.94        18\n",
      "             Hip-Hop/Rap       0.92      0.88      0.90        26\n",
      "          Pop/Mainstream       0.89      0.94      0.92        35\n",
      "                R&B/Soul       1.00      0.96      0.98        24\n",
      "                    Rock       1.00      0.95      0.97        41\n",
      "\n",
      "                accuracy                           0.94       191\n",
      "               macro avg       0.89      0.94      0.91       191\n",
      "            weighted avg       0.94      0.94      0.94       191\n",

      "\n"

      "\n",
      "done\n"

     ]
    },
    {
     "name": "stderr",
     "output_type": "stream",
     "text": [
      "C:\\Users\\Administrator\\anaconda3\\Lib\\site-packages\\sklearn\\linear_model\\_logistic.py:469: ConvergenceWarning: lbfgs failed to converge (status=1):\n",
      "STOP: TOTAL NO. of ITERATIONS REACHED LIMIT.\n",
      "\n",
      "Increase the number of iterations (max_iter) or scale the data as shown in:\n",
      "    https://scikit-learn.org/stable/modules/preprocessing.html\n",
      "Please also refer to the documentation for alternative solver options:\n",
      "    https://scikit-learn.org/stable/modules/linear_model.html#logistic-regression\n",
      "  n_iter_i = _check_optimize_result(\n"
     ]
    }
   ],
   "source": [
    "# Train multinomial logistic regression to predict genre labels\n",
    "X_genre = df_clean[features]\n",
    "y_genre = df_clean['genre']\n",
    "\n",
    "X_genre_train, X_genre_test, y_genre_train, y_genre_test = train_test_split(X_genre, y_genre, test_size=0.2, random_state=42)\n",
    "\n",
    "model_genre = LogisticRegression(multi_class='multinomial', solver='lbfgs', max_iter=1000)\n",
    "model_genre.fit(X_genre_train, y_genre_train)\n",
    "\n",
    "y_genre_pred = model_genre.predict(X_genre_test)\n",
    "accuracy_genre = accuracy_score(y_genre_test, y_genre_pred)\n",
    "report_genre = classification_report(y_genre_test, y_genre_pred)\n",
    "\n",
    "print('\\\n",
    "Genre Prediction using Multinomial Logistic Regression')\n",
    "print('Accuracy:')\n",
    "print(accuracy_genre)\n",
    "print('Classification Report:')\n",

    "print(report_genre)"

    "print(report_genre)\n",
    "\n",
    
    "\n"

   ]
  },
  {
   "cell_type": "code",
   "execution_count": null,

   "id": "ce6d29aa-b8ff-4eae-9634-4e15d21061a7",
   "metadata": {},
   "outputs": [],
   "source": [
    "# Overall Accuracy:\n",
    "# The model achieved an accuracy of 93.7%, indicating high effectiveness in predicting music genres across a diverse set of classes.\n",
    "\n",
    "# Class-wise Performance Highlights:\n",
    "# Rock, R&B/Soul, and Alternative/Experimental genres show outstanding performance, with F1-scores near or above 0.95, suggesting high precision and recall.\n",
    "# Pop/Mainstream, Hip-Hop/Rap, Electronic/Dance, and Country also show consistently strong results, with F1-scores in the 0.90–0.94 range.\n",
    "# Acoustic/Indie is the weakest-performing class, despite a perfect recall of 1.00. Its low precision (0.50) and support count (only 2 samples) suggest overfitting or unreliable generalization for this underrepresented category.\n",
    "\n",
    "# Average Metrics:\n",
    "# Macro Average F1-score: 0.91 – indicates good average performance across all genres, treating each class equally regardless of sample size.\n",
    "# Weighted Average F1-score: 0.94 – reflects strong overall performance, with heavier influence from genres with more samples."
   ]

   "id": "e2416d32-57c9-4f85-895a-4efacf243a8f",
   "metadata": {},
   "outputs": [],
   "source": []

  }
 ],
 "metadata": {
  "kernelspec": {
   "display_name": "Python 3 (ipykernel)",
   "language": "python",
   "name": "python3"
  },
  "language_info": {
   "codemirror_mode": {
    "name": "ipython",
    "version": 3
   },
   "file_extension": ".py",
   "mimetype": "text/x-python",
   "name": "python",
   "nbconvert_exporter": "python",
   "pygments_lexer": "ipython3",
   "version": "3.12.7"
  }
 },
 "nbformat": 4,
 "nbformat_minor": 5
}
