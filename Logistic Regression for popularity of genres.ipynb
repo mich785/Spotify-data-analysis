{
 "cells": [
  {
   "cell_type": "code",
   "execution_count": 29,
   "id": "9c2464b5-4f20-4c18-b6a6-2d1ec00b0185",
   "metadata": {},
   "outputs": [],
   "source": [
    "# Update clustering to generate a wider range of genres (8 clusters) and re-run analysis\n",
    "\n",
    "import pandas as pd\n",
    "import numpy as np\n",
    "from sklearn.cluster import KMeans\n",
    "from sklearn.linear_model import LogisticRegression\n",
    "from sklearn.model_selection import train_test_split\n",
    "from sklearn.metrics import accuracy_score, classification_report\n",
    "from sklearn.preprocessing import StandardScaler\n"
   ]
  },
  {
   "cell_type": "code",
   "execution_count": null,
   "id": "63f0d90e-fd2a-4761-ac78-72023ac1bdb8",
   "metadata": {},
   "outputs": [],
   "source": [
    "# Use previous clean dataframe for clustering\n",
    "features = ['bpm', 'danceability_%', 'valence_%', 'energy_%', 'acousticness_%', \n",
    "            'instrumentalness_%', 'liveness_%', 'speechiness_%']\n"
   ]
  },
  {
   "cell_type": "code",
   "execution_count": null,
   "id": "1f100714-f30c-4f78-8f81-2dd6e6ee7aeb",
   "metadata": {},
   "outputs": [],
   "source": [
    "# Ensure features are numeric\n",
    "for col in features:\n",
    "    df[col] = pd.to_numeric(df[col], errors='coerce')\n"
   ]
  },
  {
   "cell_type": "code",
   "execution_count": null,
   "id": "135360eb-5f1b-4bad-a373-0a14127f85ab",
   "metadata": {},
   "outputs": [],
   "source": [
    "# Drop rows with missing values in features\n",
    "df_clean = df.dropna(subset=features).copy()\n"
   ]
  },
  {
   "cell_type": "code",
   "execution_count": null,
   "id": "a63b5b23-96f4-4a04-a692-f15e6052cd31",
   "metadata": {},
   "outputs": [],
   "source": [
    "# Scale features\n",
    "scaler = StandardScaler()\n",
    "X_scaled = scaler.fit_transform(df_clean[features])\n"
   ]
  },
  {
   "cell_type": "code",
   "execution_count": null,
   "id": "bc509210-d616-4aca-8465-8f2012688adb",
   "metadata": {},
   "outputs": [],
   "source": [
    "# Set number of clusters to 8\n",
    "n_clusters = 8\n",
    "kmeans = KMeans(n_clusters=n_clusters, random_state=42, n_init=10)\n",
    "df_clean['genre_cluster'] = kmeans.fit_predict(X_scaled)\n"
   ]
  },
  {
   "cell_type": "code",
   "execution_count": null,
   "id": "65975c99-239b-45e6-9833-0eb82e83ca7b",
   "metadata": {},
   "outputs": [],
   "source": [
    "# Map cluster numbers to genre names for 8 clusters\n",
    "genre_names = {\n",
    "    0: 'Electronic/Dance',\n",
    "    1: 'Pop/Mainstream',\n",
    "    2: 'Hip-Hop/Rap',\n",
    "    3: 'Acoustic/Indie',\n",
    "    4: 'R&B/Soul',\n",
    "    5: 'Rock',\n",
    "    6: 'Country',\n",
    "    7: 'Alternative/Experimental'\n",
    "}\n",
    "df_clean['genre'] = df_clean['genre_cluster'].map(genre_names)\n"
   ]
  },
  {
   "cell_type": "code",
   "execution_count": null,
   "id": "145a0a4a-53d4-4416-b371-a4e71fe6b542",
   "metadata": {},
   "outputs": [],
   "source": [
    "# Create popularity column based on streams (binary, above median)\n",
    "df_clean['streams'] = pd.to_numeric(df_clean['streams'], errors='coerce')\n",
    "median_streams = df_clean['streams'].median()\n",
    "df_clean['popular'] = (df_clean['streams'] > median_streams).astype(int)\n"
   ]
  },
  {
   "cell_type": "code",
   "execution_count": null,
   "id": "eea26717-7057-4ae1-8051-29ddeec39d88",
   "metadata": {},
   "outputs": [],
   "source": [
    "# Print distribution of genres\n",
    "genre_distribution = df_clean['genre'].value_counts().reset_index()\n",
    "genre_distribution.columns = ['genre', 'count']\n",
    "print('Genre Distribution:')\n",
    "print(genre_distribution.head(10))\n"
   ]
  },
  {
   "cell_type": "code",
   "execution_count": null,
   "id": "e943c1f2-6766-4ff9-8d7b-211d3cad9288",
   "metadata": {},
   "outputs": [],
   "source": [
    "# Calculate popularity by genre (rate of songs above stream median)\n",
    "popularity_by_genre = df_clean.groupby('genre')['popular'].mean().reset_index()\n",
    "popularity_by_genre.rename(columns={'popular': 'popularity_rate'}, inplace=True)\n",
    "popularity_by_genre = popularity_by_genre.sort_values('popularity_rate', ascending=False)\n",
    "print('\\\n",
    "Popularity by Genre (rate of songs above stream median):')\n",
    "print(popularity_by_genre)\n"
   ]
  },
  {
   "cell_type": "code",
   "execution_count": null,
   "id": "5159bba5-584a-4ac8-830f-0b82235c0bae",
   "metadata": {},
   "outputs": [],
   "source": [
    "# Calculate average streams by genre\n",
    "avg_streams_by_genre = df_clean.groupby('genre')['streams'].mean().reset_index()\n",
    "avg_streams_by_genre = avg_streams_by_genre.sort_values('streams', ascending=False)\n",
    "print('\\\n",
    "Average Streams by Genre:')\n",
    "print(avg_streams_by_genre)\n"
   ]
  },
  {
   "cell_type": "code",
   "execution_count": 31,
   "id": "5e0458b4-bc94-41a1-97ee-557bb330bd8a",
   "metadata": {},
   "outputs": [
    {
     "name": "stdout",
     "output_type": "stream",
     "text": [
      "Genre Prediction using Multinomial Logistic Regression\n",
      "Accuracy:\n",
      "0.9162303664921466\n",
      "Classification Report:\n",
      "                          precision    recall  f1-score   support\n",
      "\n",
      "          Acoustic/Indie       1.00      1.00      1.00         2\n",
      "Alternative/Experimental       0.95      0.95      0.95        20\n",
      "                 Country       0.92      0.88      0.90        25\n",
      "        Electronic/Dance       0.86      1.00      0.92        18\n",
      "             Hip-Hop/Rap       0.92      0.92      0.92        26\n",
      "          Pop/Mainstream       0.91      0.83      0.87        35\n",
      "                R&B/Soul       0.96      0.92      0.94        24\n",
      "                    Rock       0.91      0.95      0.93        41\n",
      "\n",
      "                accuracy                           0.92       191\n",
      "               macro avg       0.93      0.93      0.93       191\n",
      "            weighted avg       0.92      0.92      0.92       191\n",
      "\n",
      "done\n"
     ]
    },
    {
     "name": "stderr",
     "output_type": "stream",
     "text": [
      "C:\\Users\\Admin\\anaconda3\\Lib\\site-packages\\sklearn\\linear_model\\_logistic.py:469: ConvergenceWarning: lbfgs failed to converge (status=1):\n",
      "STOP: TOTAL NO. of ITERATIONS REACHED LIMIT.\n",
      "\n",
      "Increase the number of iterations (max_iter) or scale the data as shown in:\n",
      "    https://scikit-learn.org/stable/modules/preprocessing.html\n",
      "Please also refer to the documentation for alternative solver options:\n",
      "    https://scikit-learn.org/stable/modules/linear_model.html#logistic-regression\n",
      "  n_iter_i = _check_optimize_result(\n"
     ]
    }
   ],
   "source": [
    "# Train multinomial logistic regression to predict genre labels\n",
    "X_genre = df_clean[features]\n",
    "y_genre = df_clean['genre']\n",
    "\n",
    "X_genre_train, X_genre_test, y_genre_train, y_genre_test = train_test_split(X_genre, y_genre, test_size=0.2, random_state=42)\n",
    "\n",
    "model_genre = LogisticRegression(multi_class='multinomial', solver='lbfgs', max_iter=1000)\n",
    "model_genre.fit(X_genre_train, y_genre_train)\n",
    "\n",
    "y_genre_pred = model_genre.predict(X_genre_test)\n",
    "accuracy_genre = accuracy_score(y_genre_test, y_genre_pred)\n",
    "report_genre = classification_report(y_genre_test, y_genre_pred)\n",
    "\n",
    "print('\\\n",
    "Genre Prediction using Multinomial Logistic Regression')\n",
    "print('Accuracy:')\n",
    "print(accuracy_genre)\n",
    "print('Classification Report:')\n",
    "print(report_genre)\n",
    "\n",
    "print('done')"
   ]
  },
  {
   "cell_type": "code",
   "execution_count": null,
   "id": "81633888-70a1-41e0-b60e-7f109343d8b1",
   "metadata": {},
   "outputs": [],
   "source": []
  }
 ],
 "metadata": {
  "kernelspec": {
   "display_name": "Python 3 (ipykernel)",
   "language": "python",
   "name": "python3"
  },
  "language_info": {
   "codemirror_mode": {
    "name": "ipython",
    "version": 3
   },
   "file_extension": ".py",
   "mimetype": "text/x-python",
   "name": "python",
   "nbconvert_exporter": "python",
   "pygments_lexer": "ipython3",
   "version": "3.12.7"
  }
 },
 "nbformat": 4,
 "nbformat_minor": 5
}
