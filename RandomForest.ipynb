{
 "cells": [
  {
   "cell_type": "code",

   "execution_count": 1,
   "id": "22ac57b8-b6db-4998-ab9f-e3776bdd7d7e",
   "metadata": {},
   "outputs": [],

   "execution_count": 5,
   "id": "22ac57b8-b6db-4998-ab9f-e3776bdd7d7e",
   "metadata": {},
   "outputs": [
    {
     "data": {
      "text/plain": [
       "(0.8952879581151832,\n",
       " '              precision    recall  f1-score   support\\n\\n           0       0.92      0.95      0.93       148\\n           1       0.79      0.72      0.76        43\\n\\n    accuracy                           0.90       191\\n   macro avg       0.86      0.83      0.84       191\\nweighted avg       0.89      0.90      0.89       191\\n',\n",
       "                  Feature  Importance\n",
       " 8   in_spotify_playlists    0.359961\n",
       " 12   in_deezer_playlists    0.166207\n",
       " 10    in_apple_playlists    0.165453\n",
       " 11       in_apple_charts    0.042597\n",
       " 9      in_spotify_charts    0.031583\n",
       " 1         danceability_%    0.031240\n",
       " 4         acousticness_%    0.029487\n",
       " 3               energy_%    0.028153\n",
       " 0                    bpm    0.027940\n",
       " 13      in_deezer_charts    0.026694\n",
       " 2              valence_%    0.025386\n",
       " 6             liveness_%    0.022472\n",
       " 14      in_shazam_charts    0.020443\n",
       " 7          speechiness_%    0.018095\n",
       " 5     instrumentalness_%    0.004291)"
      ]
     },
     "execution_count": 5,
     "metadata": {},
     "output_type": "execute_result"
    }
   ],

   "source": [
    "import pandas as pd\n",
    "import numpy as np\n",
    "from sklearn.model_selection import train_test_split\n",
    "from sklearn.ensemble import RandomForestClassifier\n",
    "from sklearn.metrics import accuracy_score, classification_report\n",
    "import matplotlib.pyplot as plt\n",
    "import seaborn as sns\n",
    "\n",
    "# Load the dataset\n",
    "df = pd.read_csv(\"Spotify -Raw Data.csv\", encoding='ISO-8859-1')"
   ]
  },
  {
   "cell_type": "code",

   "execution_count": 2,

   "execution_count": 11,

   "id": "c1f164c3-6b41-40d3-b049-cac4ec756796",
   "metadata": {},
   "outputs": [],
   "source": [
    "# Convert 'streams' to numeric (handling non-numeric values)\n",
    "df[\"streams\"] = pd.to_numeric(df[\"streams\"], errors=\"coerce\")\n",
    "\n",
    "# Define a hit song as one in the top 25% of streams\n",
    "threshold = df[\"streams\"].quantile(0.75)\n",
    "df[\"hit\"] = (df[\"streams\"] >= threshold).astype(int)"
   ]
  },
  {
   "cell_type": "code",

   "execution_count": 3,

   "execution_count": 13,

   "id": "58ba5158-ddcd-4d0c-8164-4b6932f07062",
   "metadata": {},
   "outputs": [],
   "source": [
    "# Select relevant numerical features\n",
    "features = [\n",
    "    \"bpm\", \"danceability_%\", \"valence_%\", \"energy_%\", \"acousticness_%\",\n",
    "    \"instrumentalness_%\", \"liveness_%\", \"speechiness_%\", \"in_spotify_playlists\",\n",
    "    \"in_spotify_charts\", \"in_apple_playlists\", \"in_apple_charts\", \"in_deezer_playlists\",\n",
    "    \"in_deezer_charts\", \"in_shazam_charts\"\n",
    "]\n",
    "\n",
    "# Convert specific columns to numeric and handle missing values\n",
    "df[\"in_shazam_charts\"] = pd.to_numeric(df[\"in_shazam_charts\"], errors=\"coerce\").fillna(0)\n",
    "df[\"in_deezer_playlists\"] = pd.to_numeric(df[\"in_deezer_playlists\"], errors=\"coerce\").fillna(0)\n",
    "\n",
    "# Drop rows with missing values in selected features\n",
    "df = df.dropna(subset=features)"
   ]
  },
  {
   "cell_type": "code",

   "execution_count": null,
   "id": "3f77f769-0085-4c17-8404-389e3767df2f",
   "metadata": {},
   "outputs": [],
   "source": [
    "# We used Random Forest Classification to predict if a song would be a hit.\n",
    "# Defined a hit song as one in the top 25% of streams.\n",
    "# Trained the model on features like BPM, Danceability, Energy, and Playlist Count."
   ]
  },
  {
   "cell_type": "code",
   "execution_count": 8,

   "execution_count": 7,

   "id": "1758af93-40d8-4fb5-b1c5-4c242956d946",
   "metadata": {},
   "outputs": [
    {

     "name": "stdout",
     "output_type": "stream",
     "text": [
      "Accuracy:0.8952879581151832\n",
      "              precision    recall  f1-score   support\n",
      "\n",
      "           0       0.92      0.95      0.93       148\n",
      "           1       0.79      0.72      0.76        43\n",
      "\n",
      "    accuracy                           0.90       191\n",
      "   macro avg       0.86      0.83      0.84       191\n",
      "weighted avg       0.89      0.90      0.89       191\n",
      "\n",
      "                 Feature  Importance\n",
      "8   in_spotify_playlists    0.359961\n",
      "12   in_deezer_playlists    0.166207\n",
      "10    in_apple_playlists    0.165453\n",
      "11       in_apple_charts    0.042597\n",
      "9      in_spotify_charts    0.031583\n",
      "1         danceability_%    0.031240\n",
      "4         acousticness_%    0.029487\n",
      "3               energy_%    0.028153\n",
      "0                    bpm    0.027940\n",
      "13      in_deezer_charts    0.026694\n",
      "2              valence_%    0.025386\n",
      "6             liveness_%    0.022472\n",
      "14      in_shazam_charts    0.020443\n",
      "7          speechiness_%    0.018095\n",
      "5     instrumentalness_%    0.004291\n"
     ]
=======
     "data": {
      "text/plain": [
       "(0.8952879581151832,\n",
       " '              precision    recall  f1-score   support\\n\\n           0       0.92      0.95      0.93       148\\n           1       0.79      0.72      0.76        43\\n\\n    accuracy                           0.90       191\\n   macro avg       0.86      0.83      0.84       191\\nweighted avg       0.89      0.90      0.89       191\\n',\n",
       "                  Feature  Importance\n",
       " 8   in_spotify_playlists    0.359961\n",
       " 12   in_deezer_playlists    0.166207\n",
       " 10    in_apple_playlists    0.165453\n",
       " 11       in_apple_charts    0.042597\n",
       " 9      in_spotify_charts    0.031583\n",
       " 1         danceability_%    0.031240\n",
       " 4         acousticness_%    0.029487\n",
       " 3               energy_%    0.028153\n",
       " 0                    bpm    0.027940\n",
       " 13      in_deezer_charts    0.026694\n",
       " 2              valence_%    0.025386\n",
       " 6             liveness_%    0.022472\n",
       " 14      in_shazam_charts    0.020443\n",
       " 7          speechiness_%    0.018095\n",
       " 5     instrumentalness_%    0.004291)"
      ]
     },
     "execution_count": 7,
     "metadata": {},
     "output_type": "execute_result"

    }
   ],
   "source": [
    "# Define X (features) and y (target)\n",
    "X = df[features]\n",
    "y = df[\"hit\"]\n",
    "\n",
    "# Split into training and testing sets\n",
    "X_train, X_test, y_train, y_test = train_test_split(X, y, test_size=0.2, random_state=42)\n",
    "\n",
    "# Train a Random Forest Classifier\n",
    "rf_model = RandomForestClassifier(n_estimators=100, random_state=42)\n",
    "rf_model.fit(X_train, y_train)\n",
    "\n",
    "# Make predictions\n",
    "y_pred = rf_model.predict(X_test)\n",
    "\n",
    "# Evaluate performance\n",
    "accuracy = accuracy_score(y_test, y_pred)\n",
    "report = classification_report(y_test, y_pred)\n",
    "\n",
    "# Feature Importance\n",
    "importances = rf_model.feature_importances_\n",
    "feature_importance_df = pd.DataFrame({\"Feature\": features, \"Importance\": importances}).sort_values(by=\"Importance\", ascending=False)\n",
    "\n",
    "# Display results\n",

    "print(f\"Accuracy:{accuracy}\")\n",
    "print(report)\n",
    "print(feature_importance_df)\n"
   ]
  },
  {
   "cell_type": "code",
   "execution_count": 7,
   "id": "4a96078e-d276-4c20-8965-bcba32e7763a",
   "metadata": {},
   "outputs": [
    {
     "name": "stdout",
     "output_type": "stream",
     "text": [
      "Cross-validated Accuracy Scores: [0.93464052 0.90196078 0.95394737 0.91447368 0.86842105]\n",
      "Mean CV Accuracy: 0.9146886824905401\n"
     ]
    }
   ],
   "source": [
    "from sklearn.model_selection import cross_val_score\n",
    "\n",
    "cv_scores = cross_val_score(rf_model, X_train, y_train, cv=5, scoring='accuracy')\n",
    "print(\"Cross-validated Accuracy Scores:\", cv_scores)\n",
    "print(\"Mean CV Accuracy:\", cv_scores.mean())\n"

    "accuracy, report, feature_importance_df\n"

   ]
  },
  {
   "cell_type": "code",
   "execution_count": null,

   "id": "c375c730-d56a-41f7-a34b-4a45ae1500fd",
   "metadata": {},
   "outputs": [],
   "source": [
    "# Model Performance:\n",
    "# Overall Accuracy: The model achieved an accuracy of 89.5% on the test set.\n",
    "# Class-wise Performance:\n",
    "# Class 0 (likely the majority class): High performance with precision 0.92, recall 0.95, and F1-score 0.93, indicating strong predictive power for this class.\n",
    "# Class 1 (likely the minority class): Lower metrics with precision 0.79, recall 0.72, and F1-score 0.76, suggesting the model struggles more with detecting this class correctly.\n",
    "# Macro Average F1-score: 0.84 — reflects the average performance across both classes regardless of imbalance.\n",
    "# Weighted Average F1-score: 0.89 — gives a more optimistic view due to the dominance of Class 0.\n",
    "\n",
    "# Feature Importance:\n",
    "# The most influential features for prediction were:\n",
    "# in_spotify_playlists (0.36) — by far the most important factor.\n",
    "# in_deezer_playlists and in_apple_playlists (each ~0.17) — also significantly contribute.\n",
    "# Other features like charts presence, danceability_%, and acousticness_% had smaller but notable impact.\n",
    "# instrumentalness_% had the least influence (0.0043), possibly negligible in the model.\n",
    "                             \n",
    "# Cross-Validation Performance:\n",
    "# Cross-validated accuracy scores ranged from 86.8% to 95.4%.\n",
    "# Mean cross-validated accuracy: 91.5%, which is consistent with the test accuracy and supports the model’s generalizability."
   ]

   "id": "4a96078e-d276-4c20-8965-bcba32e7763a",
   "metadata": {},
   "outputs": [],
   "source": []

  }
 ],
 "metadata": {
  "kernelspec": {

   "display_name": "Python 3 (ipykernel)",
   "language": "python",
   "name": "python3"

   "display_name": "Python [conda env:anaconda]",
   "language": "python",
   "name": "conda-env-anaconda-py"

  },
  "language_info": {
   "codemirror_mode": {
    "name": "ipython",
    "version": 3
   },
   "file_extension": ".py",
   "mimetype": "text/x-python",
   "name": "python",
   "nbconvert_exporter": "python",
   "pygments_lexer": "ipython3",
   "version": "3.12.7"
  }
 },
 "nbformat": 4,
 "nbformat_minor": 5
}
